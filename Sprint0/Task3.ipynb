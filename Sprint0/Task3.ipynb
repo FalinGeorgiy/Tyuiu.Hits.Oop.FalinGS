{
 "cells": [
  {
   "cell_type": "markdown",
   "metadata": {},
   "source": [
    "<h1 style=\"color:DodgerBlue\">Индивидальный проект</h1>"
   ]
  },
  {
   "cell_type": "markdown",
   "metadata": {},
   "source": [
    "<h2 style=\"color:DodgerBlue\">Название проекта:</h2>\n",
    "\n",
    "----\n",
    "\n",
    "### Вариант задания 17\n"
   ]
  },
  {
   "cell_type": "markdown",
   "metadata": {},
   "source": [
    "<h2 style=\"color:DodgerBlue\">Описание проекта:</h2>\n",
    "\n",
    "----\n",
    "\n",
    "Создать базовый класс ShippingOption в C#, который будет представлять\n",
    "различные опции доставки. На основе этого класса разработать 2-3 производных\n",
    "класса, демонстрирующих принципы наследования и полиморфизма. В каждом из\n",
    "классов должны быть реализованы новые атрибуты и методы, а также\n",
    "переопределены некоторые методы базового класса для демонстрации\n",
    "полиморфизма.\n"
   ]
  },
  {
   "cell_type": "markdown",
   "metadata": {},
   "source": [
    "<h2 style=\"color:DodgerBlue\">Реализация:</h2>\n",
    "\n",
    "----"
   ]
  },
  {
   "cell_type": "code",
   "execution_count": 14,
   "metadata": {
    "dotnet_interactive": {
     "language": "csharp"
    },
    "polyglot_notebook": {
     "kernelName": "csharp"
    }
   },
   "outputs": [
    {
     "name": "stdout",
     "output_type": "stream",
     "text": [
      "ID: 1, Название: Стандартная доставка, Стоимость: 500,00 ¤, Среднее время доставки: 5 дней\n",
      "Оценочная стоимость: 500,00 ¤\n",
      "Оценочное время доставки: 5 дней\n",
      "\n",
      "ID: 2, Название: Экспресс-доставка, Стоимость: 500,00 ¤, Минимальное время доставки: 2 дней\n",
      "Оценочная стоимость: 600,00 ¤\n",
      "Оценочное время доставки: 2 дней\n",
      "\n",
      "ID: 3, Название: Самовывоз, Стоимость: 0,00 ¤, Адрес пункта самовывоза: Ленина 57\n",
      "Оценочная стоимость: 0,00 ¤\n",
      "Оценочное время доставки: 00:00:00\n"
     ]
    }
   ],
   "source": [
    "public abstract class ShippingOption\n",
    "{\n",
    "    public int DeliveryOptionId { get; set; }\n",
    "    public string DeliveryOptionName { get; set; }\n",
    "    public decimal Cost { get; set; }\n",
    "\n",
    "    protected ShippingOption(int id, string name, decimal cost)\n",
    "    {\n",
    "        DeliveryOptionId = id;\n",
    "        DeliveryOptionName = name;\n",
    "        Cost = cost;\n",
    "    }\n",
    "\n",
    "    public virtual decimal CalculateCost()\n",
    "    {\n",
    "        return Cost;\n",
    "    }\n",
    "\n",
    "    public abstract TimeSpan EstimateDeliveryTime();\n",
    "\n",
    "    public virtual string GetDeliveryDetails()\n",
    "    {\n",
    "        return $\"ID: {DeliveryOptionId}, Название: {DeliveryOptionName}, Стоимость: {Cost:C}\";\n",
    "    }\n",
    "}\n",
    "\n",
    "\n",
    "public class StandardDelivery : ShippingOption\n",
    "{\n",
    "    \n",
    "    public TimeSpan AverageDeliveryTime { get; set; }\n",
    "\n",
    "    \n",
    "    public StandardDelivery(int id, string name, decimal cost, TimeSpan averageDeliveryTime)\n",
    "        : base(id, name, cost)\n",
    "    {\n",
    "        AverageDeliveryTime = averageDeliveryTime;\n",
    "    }\n",
    "\n",
    "    \n",
    "    public override TimeSpan EstimateDeliveryTime()\n",
    "    {\n",
    "        return AverageDeliveryTime;\n",
    "    }\n",
    "\n",
    "    \n",
    "    public override string GetDeliveryDetails()\n",
    "    {\n",
    "        return $\"{base.GetDeliveryDetails()}, Среднее время доставки: {AverageDeliveryTime.TotalDays} дней\";\n",
    "    }\n",
    "}\n",
    "\n",
    "\n",
    "public class ExpressDelivery : ShippingOption\n",
    "{ \n",
    "    public TimeSpan MinDeliveryTime { get; set; }\n",
    "\n",
    "    public ExpressDelivery(int id, string name, decimal cost, TimeSpan minDeliveryTime)\n",
    "        : base(id, name, cost)\n",
    "    {\n",
    "        MinDeliveryTime = minDeliveryTime;\n",
    "    }\n",
    "\n",
    "    \n",
    "    public override decimal CalculateCost()\n",
    "    {\n",
    "        return Cost * 1.2m; \n",
    "    }\n",
    "\n",
    "    \n",
    "    public override TimeSpan EstimateDeliveryTime()\n",
    "    {\n",
    "        return MinDeliveryTime;\n",
    "    }\n",
    "\n",
    "    public override string GetDeliveryDetails()\n",
    "    {\n",
    "        return $\"{base.GetDeliveryDetails()}, Минимальное время доставки: {MinDeliveryTime.TotalDays} дней\";\n",
    "    }\n",
    "}\n",
    "\n",
    "public class Pickup : ShippingOption\n",
    "{\n",
    "    public string PickupAddress { get; set; }\n",
    "    \n",
    "    public Pickup(int id, string name, decimal cost, string pickupAddress)\n",
    "        : base(id, name, cost)\n",
    "    {\n",
    "        PickupAddress = pickupAddress;\n",
    "    }\n",
    "   \n",
    "    public override string GetDeliveryDetails()\n",
    "    {\n",
    "        return $\"{base.GetDeliveryDetails()}, Адрес пункта самовывоза: {PickupAddress}\";\n",
    "    }\n",
    "\n",
    "    public override decimal CalculateCost()\n",
    "    {\n",
    "        return Cost; \n",
    "    }\n",
    "\n",
    "    public override TimeSpan EstimateDeliveryTime()\n",
    "    {\n",
    "        return TimeSpan.Zero; \n",
    "    }\n",
    "}\n",
    "\n",
    "var standardDelivery = new StandardDelivery(1, \"Стандартная доставка\", 500m, TimeSpan.FromDays(5));\n",
    "var expressDelivery = new ExpressDelivery(2, \"Экспресс-доставка\", 500m, TimeSpan.FromDays(2));\n",
    "var pickup = new Pickup(3, \"Самовывоз\", 0.0m, \"Ленина 57\");\n",
    "\n",
    "Console.WriteLine(standardDelivery.GetDeliveryDetails());\n",
    "Console.WriteLine($\"Оценочная стоимость: {standardDelivery.CalculateCost():C}\");\n",
    "Console.WriteLine($\"Оценочное время доставки: {standardDelivery.EstimateDeliveryTime().TotalDays} дней\\n\");\n",
    "\n",
    "Console.WriteLine(expressDelivery.GetDeliveryDetails());\n",
    "Console.WriteLine($\"Оценочная стоимость: {expressDelivery.CalculateCost():C}\");\n",
    "Console.WriteLine($\"Оценочное время доставки: {expressDelivery.EstimateDeliveryTime().TotalDays} дней\\n\");\n",
    "\n",
    "Console.WriteLine(pickup.GetDeliveryDetails());\n",
    "Console.WriteLine($\"Оценочная стоимость: {pickup.CalculateCost():C}\");\n",
    "Console.WriteLine($\"Оценочное время доставки: {pickup.EstimateDeliveryTime()}\");"
   ]
  }
 ],
 "metadata": {
  "kernelspec": {
   "display_name": ".NET (C#)",
   "language": "C#",
   "name": ".net-csharp"
  },
  "language_info": {
   "name": "polyglot-notebook"
  },
  "polyglot_notebook": {
   "kernelInfo": {
    "defaultKernelName": "csharp",
    "items": [
     {
      "aliases": [],
      "languageName": "csharp",
      "name": "csharp"
     }
    ]
   }
  }
 },
 "nbformat": 4,
 "nbformat_minor": 2
}
